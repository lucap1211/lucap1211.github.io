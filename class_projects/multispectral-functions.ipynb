{
 "cells": [
  {
   "cell_type": "markdown",
   "metadata": {
    "deletable": true,
    "nbgrader": {
     "cell_type": "markdown",
     "checksum": "92ce851535168d2625fdfb979ab519ff",
     "grade": false,
     "grade_id": "hw-instructions",
     "locked": true,
     "schema_version": 3,
     "solution": false,
     "task": false
    },
    "tags": [
     "hide"
    ]
   },
   "source": [
    "# Multispectral Remote Sensing Data: Urban Green Space\n",
    "\n",
    "Visualize and quantify differences in vegetation health by neighborhood in Chicago, IL."
   ]
  },
  {
   "cell_type": "markdown",
   "metadata": {
    "deletable": false,
    "nbgrader": {
     "cell_type": "markdown",
     "checksum": "15fc9f4d92c48c632534ea94f230051b",
     "grade": false,
     "grade_id": "step-1",
     "locked": true,
     "schema_version": 3,
     "solution": false,
     "task": false
    },
    "tags": []
   },
   "source": [
    "## STEP 1: Set up"
   ]
  },
  {
   "cell_type": "markdown",
   "metadata": {
    "deletable": true,
    "nbgrader": {
     "cell_type": "markdown",
     "checksum": "fa62959624a19a64ebecf9b1912e8dd1",
     "grade": false,
     "grade_id": "task-imports",
     "locked": true,
     "points": 5,
     "schema_version": 3,
     "solution": false,
     "task": true
    },
    "tags": []
   },
   "source": [
    "### Package imports"
   ]
  },
  {
   "cell_type": "code",
   "execution_count": 2,
   "metadata": {
    "deletable": false,
    "extensions": {
     "jupyter_dashboards": {
      "version": 1,
      "views": {
       "grid_default": {},
       "report_default": {
        "hidden": true
       }
      }
     }
    },
    "nbgrader": {
     "cell_type": "code",
     "checksum": "62e02a7624d7768be1e0d7717d4b33d6",
     "grade": false,
     "grade_id": "ans-imports",
     "locked": false,
     "schema_version": 3,
     "solution": true,
     "task": false
    },
    "tags": [
     "hide"
    ]
   },
   "outputs": [],
   "source": [
    "import os\n",
    "import shutil\n",
    "from glob import glob\n",
    "\n",
    "import earthpy as et\n",
    "import earthpy.earthexplorer as etee\n",
    "import geopandas as gpd\n",
    "import geoviews as gv\n",
    "import holoviews as hv\n",
    "import numpy as np\n",
    "import pandas as pd\n",
    "import rioxarray as rxr\n",
    "import rioxarray.merge as rxrmerge\n",
    "\n",
    "data_dir = os.path.join(et.io.HOME, et.io.DATA_NAME)\n",
    "chi_dir = os.path.join(data_dir, 'chicago_neighborhoods')\n",
    "ndvi_dir = os.path.join(data_dir, 'chicago-green-space', 'processed')\n",
    "\n",
    "for a_dir in [chi_dir, ndvi_dir]:\n",
    "    if not os.path.exists(a_dir):\n",
    "            os.makedirs(a_dir)"
   ]
  },
  {
   "cell_type": "markdown",
   "metadata": {
    "deletable": false,
    "editable": false,
    "nbgrader": {
     "cell_type": "markdown",
     "checksum": "1621a175d90065e40d35b48300235d96",
     "grade": false,
     "grade_id": "step-2",
     "locked": true,
     "schema_version": 3,
     "solution": false,
     "task": false
    }
   },
   "source": [
    "## STEP 2: Area of Interest"
   ]
  },
  {
   "cell_type": "markdown",
   "metadata": {
    "deletable": true,
    "nbgrader": {
     "cell_type": "markdown",
     "checksum": "b6319330f879360e40fdd03b609caea7",
     "grade": false,
     "grade_id": "instr-download-neighborhoods",
     "locked": true,
     "points": 15,
     "schema_version": 3,
     "solution": false,
     "task": true
    },
    "tags": []
   },
   "source": [
    "### Select Humboldt Park and Lincoln Park neighborhoods to test code and loops\n",
    "\n",
    "Download a shapefile of the City of Chicago neighborhoods from [the City of Chicago Data Portal](https://data.cityofchicago.org/).\n",
    "\n"
   ]
  },
  {
   "cell_type": "code",
   "execution_count": 3,
   "metadata": {
    "deletable": false,
    "nbgrader": {
     "cell_type": "code",
     "checksum": "1ea109f4d72fe9c96476d2989bc797d3",
     "grade": false,
     "grade_id": "ans-download-neighborhoods",
     "locked": false,
     "schema_version": 3,
     "solution": true,
     "task": false
    },
    "tags": []
   },
   "outputs": [
    {
     "data": {
      "text/html": [
       "<div>\n",
       "<style scoped>\n",
       "    .dataframe tbody tr th:only-of-type {\n",
       "        vertical-align: middle;\n",
       "    }\n",
       "\n",
       "    .dataframe tbody tr th {\n",
       "        vertical-align: top;\n",
       "    }\n",
       "\n",
       "    .dataframe thead th {\n",
       "        text-align: right;\n",
       "    }\n",
       "</style>\n",
       "<table border=\"1\" class=\"dataframe\">\n",
       "  <thead>\n",
       "    <tr style=\"text-align: right;\">\n",
       "      <th></th>\n",
       "      <th>sec_neigh</th>\n",
       "      <th>shape_area</th>\n",
       "      <th>shape_len</th>\n",
       "      <th>geometry</th>\n",
       "    </tr>\n",
       "    <tr>\n",
       "      <th>pri_neigh</th>\n",
       "      <th></th>\n",
       "      <th></th>\n",
       "      <th></th>\n",
       "      <th></th>\n",
       "    </tr>\n",
       "  </thead>\n",
       "  <tbody>\n",
       "    <tr>\n",
       "      <th>Humboldt Park</th>\n",
       "      <td>HUMBOLDT PARK</td>\n",
       "      <td>1.250104e+08</td>\n",
       "      <td>46126.751351</td>\n",
       "      <td>POLYGON ((-87.74060 41.88782, -87.74060 41.887...</td>\n",
       "    </tr>\n",
       "    <tr>\n",
       "      <th>Lincoln Park</th>\n",
       "      <td>LINCOLN PARK</td>\n",
       "      <td>6.740145e+07</td>\n",
       "      <td>61856.516472</td>\n",
       "      <td>POLYGON ((-87.62640 41.91137, -87.62646 41.911...</td>\n",
       "    </tr>\n",
       "  </tbody>\n",
       "</table>\n",
       "</div>"
      ],
      "text/plain": [
       "                   sec_neigh    shape_area     shape_len  \\\n",
       "pri_neigh                                                  \n",
       "Humboldt Park  HUMBOLDT PARK  1.250104e+08  46126.751351   \n",
       "Lincoln Park    LINCOLN PARK  6.740145e+07  61856.516472   \n",
       "\n",
       "                                                        geometry  \n",
       "pri_neigh                                                         \n",
       "Humboldt Park  POLYGON ((-87.74060 41.88782, -87.74060 41.887...  \n",
       "Lincoln Park   POLYGON ((-87.62640 41.91137, -87.62646 41.911...  "
      ]
     },
     "execution_count": 3,
     "metadata": {},
     "output_type": "execute_result"
    }
   ],
   "source": [
    "chi_path = os.path.join(chi_dir, 'chicago-neighborhoods.shp')\n",
    "if not os.path.exists(chi_path):\n",
    "    chi_url = (\n",
    "        \"https://data.cityofchicago.org/api/geospatial/\"\n",
    "        \"bbvz-uum9?method=export&format=Shapefile\")\n",
    "    gpd.read_file(chi_url).to_file(chi_path)\n",
    "    \n",
    "chi_gdf = gpd.read_file(chi_path).set_index('pri_neigh')   \n",
    "\n",
    "neigh_gdf = (\n",
    "    chi_gdf\n",
    "    .loc[['Humboldt Park', 'Lincoln Park']]\n",
    ")\n",
    "neigh_gdf"
   ]
  },
  {
   "cell_type": "markdown",
   "metadata": {
    "deletable": false,
    "editable": false,
    "nbgrader": {
     "cell_type": "markdown",
     "checksum": "4596c75f3a5704868766ee0db3560337",
     "grade": false,
     "grade_id": "step-3",
     "locked": true,
     "schema_version": 3,
     "solution": false,
     "task": false
    }
   },
   "source": [
    "## STEP 3: Download and process raster data"
   ]
  },
  {
   "cell_type": "markdown",
   "metadata": {
    "deletable": true,
    "nbgrader": {
     "cell_type": "markdown",
     "checksum": "0e2a1f5a358962445e8de4dcb9ed5261",
     "grade": false,
     "grade_id": "task-download",
     "locked": true,
     "points": 15,
     "schema_version": 3,
     "solution": false,
     "task": true
    },
    "tags": []
   },
   "source": [
    "Convert the operations from loops into a **function** to make the code more efficient. "
   ]
  },
  {
   "cell_type": "code",
   "execution_count": 3,
   "metadata": {
    "deletable": false,
    "nbgrader": {
     "cell_type": "code",
     "checksum": "7be14fe3d75462ced1803cf9a1a52cf2",
     "grade": false,
     "grade_id": "ans-download",
     "locked": false,
     "schema_version": 3,
     "solution": true,
     "task": false
    },
    "tags": []
   },
   "outputs": [
    {
     "name": "stdout",
     "output_type": "stream",
     "text": [
      "Reading in NDVI statistics file...\n",
      "Neighborhood stats have already been calculated. Skipping\n",
      "Neighborhood stats have already been calculated. Skipping\n"
     ]
    }
   ],
   "source": [
    "def download_neighborhood_data(name, geometry, start, end):\n",
    "    \"\"\"\n",
    "    Download NAIP raster for a given geometry, start date, and end date\n",
    "    \n",
    "    Downloads data from the National Agricultural Imagery Program (NAIP)\n",
    "    given a spatial and temporal extent.\n",
    "    <citation>\n",
    "\n",
    "    Parameters\n",
    "    ==========\n",
    "    name : str\n",
    "      The name used to label the download\n",
    "    geometry : shapely.POLYGON\n",
    "      The geometry to derive the download extent from. \n",
    "      Must have a `.bounds` attribute.\n",
    "    start : str\n",
    "      The start date as 'YYYY-MM-DD'\n",
    "    end : str\n",
    "      The end date as 'YYYY-MM-DD'\n",
    "\n",
    "    Returns\n",
    "    =======\n",
    "    downloader : earthpy.earthexplorer.EarthExplorerDownloader\n",
    "      Object with information about the download, including the data directory.\n",
    "    \"\"\"\n",
    "    \n",
    "    print(f'\\nNeighborhood name: {name}')\n",
    "    bbox = etee.BBox(*geometry.bounds)\n",
    "    naip_downloader = etee.EarthExplorerDownloader(\n",
    "        dataset=\"NAIP\", \n",
    "        label=name.lower().replace(' ', '-'),\n",
    "        bbox=bbox,\n",
    "        start=start, \n",
    "        end=end,\n",
    "        store_credential=True)\n",
    "    naip_downloader.submit_download_request()\n",
    "    naip_downloader.download(override=False)\n",
    "    return naip_downloader\n",
    "\n",
    "ndvi_stats_path = os.path.join(ndvi_dir, 'neighborhood-ndvi-stats.csv')\n",
    "if os.path.exists(ndvi_stats_path):\n",
    "    print('Reading in NDVI statistics file...')\n",
    "    ndvi_stats_df = pd.read_csv(ndvi_stats_path, index_col='neighborhood')\n",
    "else:\n",
    "    print('NDVI statistics file does not exist...')\n",
    "    # initialize a new, empty dataframe if doesnt exist\n",
    "    ndvi_stats_df = pd.DataFrame()\n",
    "for neighborhood_name, details in neigh_gdf.iterrows():\n",
    "    if neighborhood_name in ndvi_stats_df.index:\n",
    "        print('Neighborhood stats have already been calculated. Skipping')\n",
    "        continue\n",
    "        \n",
    "    downloader = download_neighborhood_data(\n",
    "        neighborhood_name, details.geometry, '2021-01-01', '2021-12-31')"
   ]
  },
  {
   "cell_type": "markdown",
   "metadata": {
    "deletable": true,
    "nbgrader": {
     "cell_type": "markdown",
     "checksum": "870b3a9b4907656fbc64d5d23e37b538",
     "grade": false,
     "grade_id": "task-load-merge",
     "locked": true,
     "points": 15,
     "schema_version": 3,
     "solution": false,
     "task": true
    },
    "tags": []
   },
   "source": [
    "Write a function for the loop that loads and merges the arrays."
   ]
  },
  {
   "cell_type": "code",
   "execution_count": 4,
   "metadata": {
    "deletable": false,
    "nbgrader": {
     "cell_type": "code",
     "checksum": "92ce6ede0b1456b0cc52aead0b3de308",
     "grade": false,
     "grade_id": "ans-merge",
     "locked": false,
     "schema_version": 3,
     "solution": true,
     "task": false
    },
    "tags": []
   },
   "outputs": [],
   "source": [
    "def load_and_merge_arrays(name):\n",
    "    \"\"\"\n",
    "    Load in and merge downloaded arrays\n",
    "\n",
    "    Parameters\n",
    "    ==========\n",
    "    name : str\n",
    "      The name used to label the download\n",
    "      \n",
    "\n",
    "    Returns\n",
    "    =======\n",
    "    merge_da : rxr.DataArray\n",
    "      DataArray with the merged data\n",
    "    \"\"\"\n",
    "    \n",
    "    print(f'\\nNeighborhood name: {name}')\n",
    "    data_path = os.path.join(\n",
    "        et.io.HOME, et.io.DATA_NAME, \n",
    "        name.lower().replace(' ', '-'))\n",
    "    tif_paths = glob(os.path.join(data_path, '*.tif'))\n",
    "    das = [rxr.open_rasterio(tp, masked = True) for tp in tif_paths]\n",
    "    merged_da = rxrmerge.merge_arrays(das)\n",
    "    return merged_da\n",
    "\n",
    "# Run to test functions\n",
    "# merged_da = load_and_merge_arrays('Lincoln Park')\n",
    "# merged_da"
   ]
  },
  {
   "cell_type": "markdown",
   "metadata": {
    "deletable": true,
    "nbgrader": {
     "cell_type": "markdown",
     "checksum": "705ce678b94060c99feb3967a40ebfb0",
     "grade": false,
     "grade_id": "task-summarize",
     "locked": true,
     "points": 15,
     "schema_version": 3,
     "solution": false,
     "task": true
    },
    "tags": []
   },
   "source": [
    "Write a function that computes the NDVI summary statistics and adds them to the statistics file (if the statistics are not already present)."
   ]
  },
  {
   "cell_type": "code",
   "execution_count": 4,
   "metadata": {
    "deletable": false,
    "nbgrader": {
     "cell_type": "code",
     "checksum": "96b502b32233419baede0d41d49b1762",
     "grade": false,
     "grade_id": "ans-ndvi",
     "locked": false,
     "schema_version": 3,
     "solution": true,
     "task": false
    },
    "tags": []
   },
   "outputs": [],
   "source": [
    "def calculate_ndvi_statistics(gdf, da, stats_path, override=False):\n",
    "    \"\"\"\n",
    "    Calculate NDVI, then summarize and save statistics\n",
    "    \n",
    "    Uses downloaded National Agricultural Imagery Program (NAIP)\n",
    "    data. <citation>\n",
    "\n",
    "    Parameters\n",
    "    ==========\n",
    "    gdf : gpd.GeoDataFrame\n",
    "        One row with the neighborhood name and boundary\n",
    "    da : rxr.DataArray\n",
    "        Multispectral (NAIP) raster data\n",
    "    stats_path : pathlike\n",
    "        The path to the statistics file to save results\n",
    "    \"\"\"\n",
    "    name = str(gdf.index[0])\n",
    "    print(f'Neighborhood name: {name}')\n",
    "    \n",
    "    file_is_empty = True\n",
    "    if os.path.exists(stats_path):\n",
    "        print('Stats file exists.')\n",
    "        stats_df = pd.read_csv(stats_path)\n",
    "        file_is_empty = len(stats_df)==0\n",
    "        print(f'Stats file is empty? {file_is_empty}')\n",
    "        \n",
    "        if not file_is_empty:\n",
    "            print(name)\n",
    "            print(list(stats_df.neighborhood))\n",
    "            print(name in list(stats_df.neighborhood))\n",
    "            if (name in list(stats_df.neighborhood)) and (not override):\n",
    "                print('Stats already calculated. Skipping...')\n",
    "                return\n",
    "    \n",
    "    reprojected_gdf = gdf.to_crs(da.rio.crs)\n",
    "\n",
    "    naip_crop_da = da.rio.clip_box(*reprojected_gdf.total_bounds)\n",
    "    naip_da = naip_crop_da.rio.clip(reprojected_gdf.geometry)\n",
    "    \n",
    "    ndvi_da = (\n",
    "        (da.sel(band=4) - da.sel(band=1))\n",
    "        / (da.sel(band=4) + da.sel(band=1))\n",
    "    )\n",
    "    \n",
    "    print('Writing stats to file.')\n",
    "    mode = 'w' if file_is_empty else 'a'\n",
    "    pd.DataFrame(dict(\n",
    "        neighborhood=[name],\n",
    "        ndvi_25pctl=[np.nanpercentile(ndvi_da, 25)],\n",
    "        ndvi_mean=[float(ndvi_da.mean())],\n",
    "        ndvi_75pctl=[np.nanpercentile(ndvi_da, 75)],\n",
    "        ndvi_min=[float(ndvi_da.min())],\n",
    "        ndvi_max=[float(ndvi_da.max())],\n",
    "        ndvi_median=[np.nanmedian(ndvi_da)],\n",
    "        ndvi_std=[np.nanstd(ndvi_da)]\n",
    "    )).to_csv(stats_path, mode=mode, header=file_is_empty, index=False)\n",
    "\n",
    "# Run to test functions    \n",
    "# calculate_ndvi_statistics(\n",
    "#     chi_gdf.loc[['Lincoln Park']], merged_da, ndvi_stats_path)"
   ]
  },
  {
   "cell_type": "markdown",
   "metadata": {
    "deletable": true,
    "nbgrader": {
     "cell_type": "markdown",
     "checksum": "4f5cc87a63ce81d58b2c8742cdeab0a6",
     "grade": false,
     "grade_id": "task-loop",
     "locked": true,
     "points": 15,
     "schema_version": 3,
     "solution": false,
     "task": true
    },
    "tags": []
   },
   "source": [
    "I was partially succesful to complete the final steps. I created a loop that started off with just the two neighborhood `GeoDataFrame` (neigh_gdf) that I later replaced for the enitre chi_gdf. I run each of the functions in the loop, checking that they work.\n",
    "Finally, I was supposed to write a line of code at the end my loop to delete the raster data files once I have saved the statistics I needed. Unfortunately, I could not use the `shutil.rmtree()` function becasue I kept getting a PermissionError. Below, I commented out some code that seemed promising but did not solve my issue. "
   ]
  },
  {
   "cell_type": "code",
   "execution_count": 6,
   "metadata": {
    "deletable": false,
    "nbgrader": {
     "cell_type": "code",
     "checksum": "1a65a37500bd48e50dd4207d04090d3d",
     "grade": false,
     "grade_id": "ans-loop",
     "locked": false,
     "schema_version": 3,
     "solution": true,
     "task": false
    },
    "tags": []
   },
   "outputs": [
    {
     "name": "stdout",
     "output_type": "stream",
     "text": [
      "Neighborhood stats have already been calculated. Skipping\n",
      "Neighborhood stats have already been calculated. Skipping\n"
     ]
    }
   ],
   "source": [
    "ndvi_stats_path = os.path.join(ndvi_dir, 'neighborhood-ndvi-stats.csv')\n",
    "# import time\n",
    "    \n",
    "for neighborhood_name, details in neigh_gdf.iterrows():\n",
    "    if not os.path.exists(ndvi_stats_path):\n",
    "        print('NDVI statistics file does not exist...')\n",
    "        ndvi_stats_df = pd.DataFrame()\n",
    "    else:\n",
    "        ndvi_stats_df = pd.read_csv(ndvi_stats_path, index_col=\"neighborhood\")\n",
    "    \n",
    "    if neighborhood_name in ndvi_stats_df.index:\n",
    "        print('Neighborhood stats have already been calculated. Skipping')\n",
    "        continue\n",
    "    \n",
    "    # try:\n",
    "    #     downloader = download_neighborhood_data(\n",
    "    #         neighborhood_name, details.geometry, '2021-01-01', '2021-12-31')\n",
    "    #     merged_da = load_and_merge_arrays(neighborhood_name)\n",
    "    #     calculate_ndvi_statistics(\n",
    "    #         chi_gdf.loc[[neighborhood_name]], merged_da, ndvi_stats_path)\n",
    "    # except PermissionError as e:\n",
    "    #     print(f\"PermissionError: {e}\")\n",
    "    #     print(f\"The file causing the issue: {downloader.data_dir}\")\n",
    "    # finally:\n",
    "    #     # Introduce a 2 s delay before attempting to delete the directory\n",
    "    #     time.sleep(2)\n",
    "    #     if os.path.exists(downloader.data_dir):\n",
    "    #         shutil.rmtree(downloader.data_dir)\n",
    "    \n",
    "    downloader = download_neighborhood_data(\n",
    "        neighborhood_name, details.geometry, '2021-01-01', '2021-12-31')\n",
    "    merged_da = load_and_merge_arrays(neighborhood_name)\n",
    "    calculate_ndvi_statistics(\n",
    "        chi_gdf.loc[[neighborhood_name]], merged_da, ndvi_stats_path)\n",
    "        \n",
    "    # shutil.rmtree(downloader.data_dir)\n",
    "    "
   ]
  },
  {
   "cell_type": "markdown",
   "metadata": {
    "deletable": true,
    "nbgrader": {
     "cell_type": "markdown",
     "checksum": "e2faa5678764519b1c1834cc10c0e8e0",
     "grade": false,
     "grade_id": "cell-d424f92bd00373c0",
     "locked": true,
     "schema_version": 3,
     "solution": false,
     "task": false
    },
    "tags": []
   },
   "source": [
    "## STEP 4: Plotting NDVI statistics for available neighborhoods "
   ]
  },
  {
   "cell_type": "markdown",
   "metadata": {
    "deletable": true,
    "nbgrader": {
     "cell_type": "markdown",
     "checksum": "edb0231452a46a9ed12835cb86480997",
     "grade": false,
     "grade_id": "task-plot",
     "locked": true,
     "points": 20,
     "schema_version": 3,
     "solution": false,
     "task": true
    },
    "tags": []
   },
   "source": []
  },
  {
   "cell_type": "code",
   "execution_count": 18,
   "metadata": {
    "deletable": false,
    "nbgrader": {
     "cell_type": "code",
     "checksum": "c8bec3cfc289cc951f570aeb342200d5",
     "grade": false,
     "grade_id": "ans-plot",
     "locked": false,
     "schema_version": 3,
     "solution": true,
     "task": false
    }
   },
   "outputs": [],
   "source": [
    "ndvi_stats_df = pd.read_csv(ndvi_stats_path, index_col=\"neighborhood\")\n",
    "chloropleth_mean = gv.tile_sources.EsriImagery * gv.Polygons(\n",
    "    chi_gdf.join(ndvi_stats_df, how='left'),\n",
    "    vdims=['ndvi_mean']\n",
    ").opts(axiswise='bare',\n",
    "       show_frame=False,\n",
    "       xaxis=None,\n",
    "       yaxis=None,\n",
    "       cmap='RdYlGn',\n",
    "       colorbar=True,\n",
    "       clim=(ndvi_stats_df['ndvi_mean'].min(), ndvi_stats_df['ndvi_mean'].max()),\n",
    "       tools=['hover'],\n",
    "       title='Mean NDVI in Chicago\\nneighborhoods'\n",
    ")\n",
    "\n",
    "hv.save(chloropleth_mean, 'chloropleth_mean.html')\n",
    "\n",
    "# Convert 'ndvi_75pct' and 'ndvi_25pct' to numeric\n",
    "ndvi_stats_df['ndvi_75pctl'] = pd.to_numeric(ndvi_stats_df['ndvi_75pctl'], errors='coerce')\n",
    "ndvi_stats_df['ndvi_25pctl'] = pd.to_numeric(ndvi_stats_df['ndvi_25pctl'], errors='coerce')\n",
    "\n",
    "# Calculate the difference between 'ndvi_75pct' and 'ndvi_25pct'\n",
    "ndvi_stats_df['ndvi_iqr'] = ndvi_stats_df['ndvi_75pctl'] - ndvi_stats_df['ndvi_25pctl']\n",
    "\n",
    "min_iqr_value = ndvi_stats_df['ndvi_iqr'].min()\n",
    "max_iqr_value = ndvi_stats_df['ndvi_iqr'].max()\n",
    "\n",
    "# Create chloropleth_iqr plot\n",
    "chloropleth_iqr = gv.tile_sources.EsriImagery * gv.Polygons(\n",
    "    chi_gdf.join(ndvi_stats_df, how='left'),\n",
    "    vdims=['ndvi_iqr']\n",
    ").opts(axiswise='bare',\n",
    "       show_frame=False,\n",
    "       xaxis=None,\n",
    "       yaxis=None,\n",
    "       cmap='oranges',\n",
    "       colorbar=True,\n",
    "       clim=(min_iqr_value, max_iqr_value),\n",
    "       tools=['hover'],\n",
    "       title='NDVI variations in Chicago\\nneighborhoods (based on IQR)'\n",
    ")\n",
    "\n",
    "       \n",
    "hv.save(chloropleth_iqr, 'chloropleth_iqr.html')"
   ]
  },
  {
   "cell_type": "markdown",
   "metadata": {},
   "source": [
    "#### Based on the limited availability of neighborhood statistics the mean and interquartile range are not as meaningful as if we were able to compare more polygons with calculated statistics. The interquartile range was meant to illustrate a measure of spread in NDVI values among neighborhoods."
   ]
  },
  {
   "cell_type": "code",
   "execution_count": 20,
   "metadata": {
    "tags": []
   },
   "outputs": [],
   "source": [
    "%%capture\n",
    "%%bash\n",
    "jupyter nbconvert multispectral-functions.ipynb --to html --no-input"
   ]
  },
  {
   "cell_type": "code",
   "execution_count": null,
   "metadata": {},
   "outputs": [],
   "source": []
  }
 ],
 "metadata": {
  "extensions": {
   "jupyter_dashboards": {
    "activeView": "report_default",
    "version": 1,
    "views": {
     "grid_default": {
      "name": "grid",
      "type": "grid"
     },
     "report_default": {
      "name": "report",
      "type": "report"
     }
    }
   }
  },
  "kernelspec": {
   "display_name": "Python 3 (ipykernel)",
   "language": "python",
   "name": "python3"
  },
  "language_info": {
   "codemirror_mode": {
    "name": "ipython",
    "version": 3
   },
   "file_extension": ".py",
   "mimetype": "text/x-python",
   "name": "python",
   "nbconvert_exporter": "python",
   "pygments_lexer": "ipython3",
   "version": "3.10.13"
  },
  "toc": {
   "base_numbering": 1,
   "nav_menu": {},
   "number_sections": true,
   "sideBar": true,
   "skip_h1_title": false,
   "title_cell": "Table of Contents",
   "title_sidebar": "Contents",
   "toc_cell": false,
   "toc_position": {
    "height": "calc(100% - 180px)",
    "left": "10px",
    "top": "150px",
    "width": "249.4px"
   },
   "toc_section_display": true,
   "toc_window_display": true
  },
  "varInspector": {
   "cols": {
    "lenName": 16,
    "lenType": 16,
    "lenVar": 40
   },
   "kernels_config": {
    "python": {
     "delete_cmd_postfix": "",
     "delete_cmd_prefix": "del ",
     "library": "var_list.py",
     "varRefreshCmd": "print(var_dic_list())"
    },
    "r": {
     "delete_cmd_postfix": ") ",
     "delete_cmd_prefix": "rm(",
     "library": "var_list.r",
     "varRefreshCmd": "cat(var_dic_list()) "
    }
   },
   "types_to_exclude": [
    "module",
    "function",
    "builtin_function_or_method",
    "instance",
    "_Feature"
   ],
   "window_display": false
  }
 },
 "nbformat": 4,
 "nbformat_minor": 4
}
