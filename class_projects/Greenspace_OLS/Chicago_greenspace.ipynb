{
 "cells": [
  {
   "cell_type": "markdown",
   "metadata": {},
   "source": [
    "### Chicago Urban Greenspace Project Outline"
   ]
  },
  {
   "cell_type": "markdown",
   "metadata": {},
   "source": [
    "##### Study Overview\n",
    "\n",
    "Your workflow should:\n",
    "\n",
    "1. **Define study area:** Gather data on urban greenspaces and socioeconomic data in Chicago from relevant sources.\n",
    "2. **Fit a model:**\n",
    "    1. **Data Download and Preprocessing:** including:\n",
    "        - **Socioeconomic Data Collection:** obtain urls for the U.S. Census Tract shapefiles from [the TIGER service](https://www.census.gov/geographies/mapping-files/time-series/geo/tiger-line-file.html).\n",
    "        - **Chicago Greenspace** Gather data on urban greenspaces in Chicago from relevant sources. The City of Chicago Boundary on the [City of Chicago Data Portal](https://data.cityofchicago.org/).\n",
    "     2. **Merge Data:** the greenspace data with the socioeconomic data based on geographical identifiers.\n",
    "     3. **Exploratory Data Analysis (EDA):** Conduct exploratory data analysis to understand the distribution of greenspace and socioeconomic variables.\n",
    "3. **Statistical Analysis:**\n",
    "    - Use statistical methods to identify correlations between greenspace and socioeconomic variables.\n",
    "4. **Linear Modeling**\n",
    "5. **Interpret Results**"
   ]
  },
  {
   "cell_type": "markdown",
   "metadata": {},
   "source": [
    "#### Chicago boundary map"
   ]
  },
  {
   "cell_type": "markdown",
   "metadata": {},
   "source": [
    "<embed type=\"text/html\" src=\"chicago_boundary.html\" width=\"790\" height=\"310\">"
   ]
  },
  {
   "cell_type": "markdown",
   "metadata": {},
   "source": [
    "#### Census data collection\n",
    "\n",
    "Selecting the right census data variables is crucial for building a meaningful linear regression model. For analyzing NDVI values, I considered variables that can potentially impact or correlate with vegetation and green spaces. Here are the key variables that I decided to include:\n",
    "\n",
    "**Socioeconomic Variables:**\n",
    "- Median Household Income: Wealthier areas might have more resources for maintaining green spaces.\n",
    "- Per Capita Income\n",
    "\n",
    "**Housing Variables:**\n",
    "- Percentage of Owner-Occupied Housing Units: Homeowners might invest more in green spaces around their properties.\n",
    "- Median Property Value: Higher property values might be associated with better-maintained green spaces.\n",
    "    \n",
    "**Demographic Variables:**\n",
    "- Population and population density"
   ]
  },
  {
   "cell_type": "markdown",
   "metadata": {},
   "source": [
    "<embed type=\"text/html\" src=\"layout_census.html\" width=\"1040\" height=\"510\">"
   ]
  },
  {
   "cell_type": "markdown",
   "metadata": {},
   "source": [
    "#### Chloropleth plots\n",
    "\n",
    "Explore differences in both median income and mean NDVI across the City."
   ]
  },
  {
   "cell_type": "markdown",
   "metadata": {},
   "source": [
    "<embed type=\"text/html\" src=\"ndvi_income_plot.html\" width=\"1200\" height=\"700\">"
   ]
  },
  {
   "cell_type": "markdown",
   "metadata": {},
   "source": [
    "The side-by-side chloropleth plots both show variations between tracts based on median income and mean NDVI values. Some tracts with higher median income values also seem to have relatively higher mean NDVI values as we compare the two maps. However, no striking visual evidence appears from these two plots that higher median income tracts would have higher mean NDVI values."
   ]
  },
  {
   "cell_type": "markdown",
   "metadata": {},
   "source": [
    "### Model Description for Linear Ordinary Least Squares (OLS) Regression\n",
    "\n",
    "#### 1. Assumptions Made About the Data\n",
    "The linear ordinary least squares (OLS) regression model makes several assumptions about the data:\n",
    "\n",
    "- **Linearity**: The relationship between the dependent variable (greenspace as measured by NDVI) and the independent variables (socioeconomic parameters) is linear.\n",
    "- **Independence**: The residuals (errors) are independent. This means that the residuals of one observation are not correlated with the residuals of another.\n",
    "- **Homoscedasticity**: The residuals have constant variance at every level of the independent variables. This means that the spread of the residuals should be roughly the same for all fitted values.\n",
    "- **Normality**: The residuals of the model are normally distributed. This is particularly important for small sample sizes to ensure valid hypothesis testing.\n",
    "- **No Multicollinearity**: The independent variables are not highly correlated with each other. Multicollinearity can inflate the variances of the parameter estimates and make the model unstable.\n",
    "\n",
    "#### 2. Objective of the Model and Evaluation Metrics\n",
    "The objective of the linear OLS regression model is to determine whether there is a statistically significant relationship between the socioeconomic parameters from the U.S. Census and greenspace, as measured by the fraction of pixels with an NDVI greater than 0.12. Specifically, the goal is to predict the greenspace (NDVI values) using the socioeconomic variables and understand the strength and direction of these relationships.\n",
    "\n",
    "**Evaluation Metrics:**\n",
    "- **R-squared (R²)**: This metric indicates the proportion of the variance in the dependent variable that is predictable from the independent variables. It ranges from 0 to 1, with higher values indicating better model fit.\n",
    "- **Adjusted R-squared**: Adjusted R² adjusts the R² value based on the number of predictors in the model, providing a more accurate measure of model fit for multiple regression.\n",
    "- **Mean Squared Error (MSE)**: This metric measures the average of the squares of the residuals, providing a measure of the model’s prediction accuracy.\n",
    "- **Root Mean Squared Error (RMSE)**: The square root of the MSE, providing a measure of the average magnitude of the errors in the same units as the dependent variable.\n",
    "- **P-values of the coefficients**: These indicate the statistical significance of each independent variable in predicting the dependent variable. A low p-value (typically < 0.05) suggests that the predictor is significantly related to the response variable.\n",
    "\n",
    "#### 3. Advantages and Potential Problems with Choosing this Model\n",
    "**Advantages:**\n",
    "- **Simplicity and Interpretability**: OLS regression is straightforward to implement and the results are easy to interpret. Each coefficient represents the expected change in the dependent variable for a one-unit change in the predictor, holding all other predictors constant.\n",
    "- **Efficiency**: If the assumptions of OLS regression are met, it is the Best Linear Unbiased Estimator (BLUE), meaning it has the lowest variance among all unbiased linear estimators.\n",
    "- **Diagnostic Tools**: There are many diagnostic tools and tests available for OLS regression to check the assumptions and identify potential problems with the model (e.g., residual plots, variance inflation factor (VIF) for multicollinearity).\n",
    "\n",
    "**Potential Problems:**\n",
    "- **Violation of Assumptions**: If the assumptions of linearity, independence, homoscedasticity, normality, and no multicollinearity are violated, the OLS estimates may be biased or inefficient, leading to invalid inference.\n",
    "- **Outliers and Influential Points**: OLS regression is sensitive to outliers and influential points, which can disproportionately affect the model estimates.\n",
    "- **Multicollinearity**: High correlation among independent variables can lead to unstable estimates of regression coefficients, making it difficult to assess the effect of each predictor.\n",
    "- **Model Specification**: If important variables are omitted from the model or irrelevant variables are included, the model can be misspecified, leading to biased estimates.\n",
    "\n",
    "Overall, while OLS regression is a powerful tool for understanding the relationship between variables, it is important to carefully check the assumptions and consider potential limitations when interpreting the results. My current independent variables have the potential to violate the **multicollinearity** assumption. "
   ]
  },
  {
   "cell_type": "markdown",
   "metadata": {},
   "source": [
    "#### Exploratory plots to check distributions"
   ]
  },
  {
   "cell_type": "markdown",
   "metadata": {},
   "source": [
    "<img src=\"assumptions_plot.png\" width=\"500\" height=\"500\">"
   ]
  },
  {
   "cell_type": "markdown",
   "metadata": {},
   "source": [
    "The log transformed green space fraction seems to be normally distributed, but the log median income seems to be left skewed that has the potential to violate the normality assumption. "
   ]
  },
  {
   "cell_type": "markdown",
   "metadata": {},
   "source": [
    "### Fit and Predict\n",
    "\n",
    "Use a statistical model to fit and predict NDVI values based on the median income in Chicago neighborhoods. I used the `scikitlearn` library that has a slightly different approach than many software packages. For example, `scikitlearn` emphasizes generic model performance measures like cross-validation and importance over coefficient p-values and correlation. The scikitlearn approach is meant to generalize more smoothly to machine learning (ML) models where the statistical significance is harder to derive mathematically."
   ]
  },
  {
   "cell_type": "markdown",
   "metadata": {},
   "source": [
    "#### <u> Results </u>"
   ]
  },
  {
   "cell_type": "markdown",
   "metadata": {},
   "source": [
    "<embed type=\"text/html\" src=\"error_median_income_NDVI.html\" width=\"1337\" height=\"700\">"
   ]
  },
  {
   "cell_type": "markdown",
   "metadata": {},
   "source": [
    "The error plot does not seem to signal any clear direction for over or underprediction. Although considering the areas where the model overpredicts, they tend to be at tracts where the higher median income downtown areas are located in the central area of the city. This make logical sense since the greeness at those locations are spatially limited. While the underprediction seems to happen in the more suburban tracts that have higher fraction of greeness, but the median income tends to be lower. "
   ]
  }
 ],
 "metadata": {
  "kernelspec": {
   "display_name": "earth-analytics-python",
   "language": "python",
   "name": "python3"
  },
  "language_info": {
   "name": "python",
   "version": "3.10.13"
  }
 },
 "nbformat": 4,
 "nbformat_minor": 2
}
