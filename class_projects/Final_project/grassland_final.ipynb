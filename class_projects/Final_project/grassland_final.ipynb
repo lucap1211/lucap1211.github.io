{
 "cells": [
  {
   "cell_type": "markdown",
   "id": "f14ae10b-3c19-4e7d-9a67-f22dec267e11",
   "metadata": {},
   "source": [
    "### Grassland Management Under Climate Change\n",
    "\n",
    "#### A workbook for Sorghastrum nutans's habitat suitability model. \n",
    "\n",
    "In this project I will analyze multiple data layers that relate to Sorghastrum nutans habitat in North America. I will focus on USFS National Grassland Units as my study sites to better understand the link between habitat and variables like soil, topography, and climate. The Forest Service defines 20 National Grasslands across 13 different states that provide ecosystem services to over a million visitors annually.Value estimates of aesthetic and passive use of such ecosystems total millions of dollars (~280) yearly. Climate change threatens the continued suitability of certain species that play an important role in preserving grassland integrity and valuable ecosystem servies.  \n",
    "[(USFS)](https://www.fs.usda.gov/managing-land/national-forests-grasslands/national-grasslands/ecoservices).\n",
    "\n",
    "In this workbook, I chose Oglala National Grassland (NE) and Fort Pierre National Grassland (SD). My decision was based on comparable shape (contiguous not fragmented), location (SD-NE), acreage (94,480 vs 115,997).\n",
    "- Oglala National Grassland is a unique area created by water and wind erosion on layers of siltstone and clay. The area is dominated by native mixed-grass prairie[(USFS)](https://www.fs.usda.gov/recarea/nebraska/recarea/?recid=30328).\n",
    "- Fort Pierre National Grassland consists of flats and gently rolling hills with large drainages that are essential for waterfowl habitat and popular fisheries. Furthermore, it is widely known for its mixed grass prairie vegetation [(USFS)](https://www.fs.usda.gov/recarea/nebraska/recarea/?recid=10637).\n",
    "\n"
   ]
  },
  {
   "cell_type": "code",
   "execution_count": 24,
   "id": "ae7e2622-70c1-4c93-96d7-6bd1030a5607",
   "metadata": {
    "tags": []
   },
   "outputs": [],
   "source": [
    "# Import packages used for the analysis\n",
    "\n",
    "import os\n",
    "from glob import glob\n",
    "\n",
    "import earthpy as et\n",
    "import earthpy.appeears as eaapp\n",
    "import geopandas as gpd\n",
    "import requests\n",
    "import geoviews as gv\n",
    "import holoviews as hv\n",
    "import hvplot.pandas\n",
    "import hvplot.xarray\n",
    "import rioxarray as rxr\n",
    "import rioxarray.merge as rxrmerge\n",
    "import xarray as xr"
   ]
  },
  {
   "cell_type": "markdown",
   "id": "c96c0757-8e52-406e-8ddf-1b988f95f25a",
   "metadata": {},
   "source": [
    "#### Study Area\n",
    "\n",
    "A map service depicting National Grassland units designated by the Secretary of Agriculture and permanently held by the Department of Agriculture under Title III of the Bankhead-Jones Farm Tenant Act. Current boundary information. The map service uses a File Geodatabase data source with Web Mercator projection.\n",
    "[(FSGeodata Clearinghouse)](https://data.fs.usda.gov/geodata/edw/datasets.php?dsetCategory=boundaries)\n"
   ]
  },
  {
   "cell_type": "code",
   "execution_count": 4,
   "id": "5bef11a6-a740-421a-83ce-bb9b960fffee",
   "metadata": {
    "tags": []
   },
   "outputs": [
    {
     "name": "stdout",
     "output_type": "stream",
     "text": [
      "\n",
      "Grassland name: Oglala National Grassland\n",
      "NATIONALGR                                         295521010328\n",
      "GIS_ACRES                                            215804.927\n",
      "SHAPE_AREA                                             0.096279\n",
      "SHAPE_LEN                                              1.970612\n",
      "geometry      POLYGON ((-103.72476827000003 43.0009967600000...\n",
      "Name: Oglala National Grassland, dtype: object\n",
      "Total bounds: (-104.05313982000001, 42.74092908, -103.36517901000002, 43.00177636000001)\n",
      "\n",
      "Grassland name: Fort Pierre National Grassland\n",
      "NATIONALGR                                         281771010328\n",
      "GIS_ACRES                                            209044.225\n",
      "SHAPE_AREA                                             0.095149\n",
      "SHAPE_LEN                                              1.455518\n",
      "geometry      POLYGON ((-100.08408953000003 44.2816249699999...\n",
      "Name: Fort Pierre National Grassland, dtype: object\n",
      "Total bounds: (-100.47626474999998, 43.977281059999996, -100.06625771, 44.281624969999996)\n"
     ]
    }
   ],
   "source": [
    "# Download USFS National Grassland Units and choose grasslands.\n",
    "\n",
    "grasslands_url = (\n",
    "    \"https://data.fs.usda.gov/geodata/edw/edw_resources/shp\"\n",
    "    \"/S_USA.NationalGrassland.zip\")\n",
    "grasslands_gdf = gpd.read_file(grasslands_url)\n",
    "grasslands_gdf\n",
    "\n",
    "# Select two grasslands\n",
    "# Selection criteria: comparable shape, area, \"similar\" location\n",
    "grass_gdf = (\n",
    "    grasslands_gdf\n",
    "    .set_index('GRASSLANDN')\n",
    "    .loc[['Oglala National Grassland', 'Fort Pierre National Grassland']]\n",
    ")\n",
    "\n",
    "grass_gdf\n",
    "\n",
    "for GRASSLANDN, grass_gs in grass_gdf.iterrows():\n",
    "    print('\\nGrassland name: {}'.format(GRASSLANDN))\n",
    "    print(grass_gs)\n",
    "    print(f\"Total bounds: {grass_gs.geometry.bounds}\")"
   ]
  },
  {
   "cell_type": "markdown",
   "id": "4f0a770e-847f-4375-8298-1116ee7dda58",
   "metadata": {},
   "source": [
    "#### Polaris Soil Dataset\n",
    "\n",
    "[Polaris](http://hydrology.cee.duke.edu/POLARIS) is constructed using available high-resolution geospatial environmental data and a state-of-the-art machine learning algorithm (DSMART-HPC) to remap the Soil Survey Geographic (SSURGO) database. This 9 billion grid cell database is possible using available high performance computing resources. POLARIS provides a spatially continuous, internally consistent, quantitative prediction of soil series.\n",
    "(Chaney, N. W., Wood, E. F., McBratney, A. B., Hempel, J. W., Nauman, T. W., Brungard, C. W., & Odgers, N. P. (2016). POLARIS: A \\30-meter probabilistic soil series map of the contiguous United States. Geoderma, 274, 54-67.)"
   ]
  },
  {
   "cell_type": "code",
   "execution_count": 55,
   "id": "d5f053ba-d659-42b2-8053-5801f74a0f5a",
   "metadata": {
    "tags": []
   },
   "outputs": [],
   "source": [
    "# Download /POLARIS/PROPERTIES/v1.0/ph/mean/60_100\n",
    "# Soil variable and change tiles according to chosen grassland units \n",
    "# Unit might not fit into one tile: \n",
    "# load in more than one tile per grassland \n",
    "# and merge with rioxarray\n",
    "\n",
    "# Probably I need a function (only loop?)\n",
    "# since I have two different \n",
    "# set of min values (from total bounds)\n",
    "\n",
    "min_lat, min_lon = 42, -104\n",
    "max_lat, max_lon = min_lat+1, min_lon+1\n",
    "polaris_url_format = (\n",
    "    \"http://hydrology.cee.duke.edu/POLARIS/PROPERTIES/v1.0\"\n",
    "    \"/ph/mean/60_100/lat{min_lat}{max_lat}_lon{min_lon}{max_lon}.tif\"\n",
    ")\n",
    "\n",
    "polaris_url_oglala = polaris_url_format.format(\n",
    "    min_lat=min_lat, min_lon=min_lon, max_lat=max_lat, max_lon=max_lon)\n",
    "\n",
    "polaris_oglala_da = rxr.open_rasterio(polaris_url_oglala, masked=True).squeeze()\n",
    "\n",
    "# polaris_oglala_da.hvplot(rasterize=True)*grass_gdf.hvplot()\n",
    "\n",
    "min_lat, min_lon = 44, -100\n",
    "max_lat, max_lon = min_lat+1, min_lon+1\n",
    "polaris_url_format = (\n",
    "    \"http://hydrology.cee.duke.edu/POLARIS/PROPERTIES/v1.0\"\n",
    "    \"/ph/mean/60_100/lat{min_lat}{max_lat}_lon{min_lon}{max_lon}.tif\"\n",
    ")\n",
    "\n",
    "polaris_url_fp = polaris_url_format.format(\n",
    "    min_lat=min_lat, min_lon=min_lon, max_lat=max_lat, max_lon=max_lon)\n",
    "\n",
    "polaris_fp_da = rxr.open_rasterio(polaris_url_fp, masked=True).squeeze()\n",
    "# polaris_fp_da.rio.set_spatial_dims(x_dim= 'x', y_dim= 'y', inplace=True)\n",
    "\n",
    "# polaris_fp_da.hvplot(rasterize=True)"
   ]
  },
  {
   "cell_type": "code",
   "execution_count": 8,
   "id": "a45dce53-fad9-46fe-b19f-767afba9e172",
   "metadata": {
    "tags": []
   },
   "outputs": [
    {
     "name": "stdout",
     "output_type": "stream",
     "text": [
      "\n",
      "Grassland name: Oglala National Grassland\n",
      "NATIONALGR                                         295521010328\n",
      "GIS_ACRES                                            215804.927\n",
      "SHAPE_AREA                                             0.096279\n",
      "SHAPE_LEN                                              1.970612\n",
      "geometry      POLYGON ((-103.72476827000003 43.0009967600000...\n",
      "Name: Oglala National Grassland, dtype: object\n",
      "Total bounds: (-104.05313982000001, 42.74092908, -103.36517901000002, 43.00177636000001)\n",
      "\n",
      "GRASSLANDN: Oglala National Grassland\n",
      "SRTM data already downloaded.\n",
      "\n",
      "Grassland name: Fort Pierre National Grassland\n",
      "NATIONALGR                                         281771010328\n",
      "GIS_ACRES                                            209044.225\n",
      "SHAPE_AREA                                             0.095149\n",
      "SHAPE_LEN                                              1.455518\n",
      "geometry      POLYGON ((-100.08408953000003 44.2816249699999...\n",
      "Name: Fort Pierre National Grassland, dtype: object\n",
      "Total bounds: (-100.47626474999998, 43.977281059999996, -100.06625771, 44.281624969999996)\n",
      "\n",
      "GRASSLANDN: Fort Pierre National Grassland\n",
      "SRTM data already downloaded.\n"
     ]
    }
   ],
   "source": [
    "# Function for srtm download\n",
    "\n",
    "def download_srtm_data(name, geometry):\n",
    "    \"\"\"\n",
    "    Download SRTM raster for a given geometry, start date, and end date\n",
    "    \n",
    "    Downloads data from NASA Shuttle Radar Topography Mission (SRTM)\n",
    "    given a spatial and temporal extent. NASA Shuttle Radar \n",
    "    Topography Mission Global 1 arc second launched \n",
    "    February 11, 2000 and ﬂew for 11 days.\n",
    "    <https://lpdaac.usgs.gov/products/srtmgl1v003/>\n",
    "\n",
    "    Parameters\n",
    "    ==========\n",
    "    name : str\n",
    "      The name used to label the download\n",
    "    grasspolygon : geopandas.GeoDataFrame\n",
    "      The geometry to derive the download extent from. \n",
    "      Must have a `.envelope` attribute.\n",
    "\n",
    "    Returns\n",
    "    =======\n",
    "    downloader : earthpy.earthexplorer.EarthExplorerDownloader\n",
    "      Object with information about the download, including the data directory.\n",
    "    \"\"\"\n",
    "    \n",
    "    print(f'\\nGRASSLANDN: {name}')\n",
    "    srtm_downloader = eaapp.AppeearsDownloader(\n",
    "        download_key = name.lower().replace(' ', '-'),\n",
    "        product='SRTMGL1_NC.003',\n",
    "        layer='SRTMGL1_DEM',\n",
    "        start_date='02-11-2000',\n",
    "        end_date='02-21-2000',\n",
    "        polygon=geometry,\n",
    "        ea_dir=os.path.join(et.io.HOME, 'earth-analytics')\n",
    "    )\n",
    "    if not os.path.exists(srtm_downloader.data_dir):\n",
    "        srtm_downloader.submit_task_request()\n",
    "        print(\"SRTM requested and downloading...\")\n",
    "        srtm_downloader.download_files()\n",
    "    else:\n",
    "        print(\"SRTM data already downloaded.\")\n",
    "    return srtm_downloader\n",
    "\n",
    "srtm_paths = {}\n",
    "for GRASSLANDN, grass_gs in grass_gdf.iterrows():\n",
    "    print('\\nGrassland name: {}'.format(GRASSLANDN))\n",
    "    print(grass_gs)\n",
    "    print(f\"Total bounds: {grass_gs.geometry.bounds}\")\n",
    "    srtm_downloader = (\n",
    "        download_srtm_data(GRASSLANDN, grass_gdf.loc[[GRASSLANDN]])\n",
    "        )\n",
    "    srtm_paths[GRASSLANDN]=(glob(\n",
    "        os.path.join(\n",
    "            srtm_downloader.data_dir,\n",
    "            'SRTMGL1_NC.003*',\n",
    "            '*.tif')\n",
    "    ))"
   ]
  },
  {
   "cell_type": "code",
   "execution_count": null,
   "id": "6b68cd34-1221-43f4-97e9-ceea95674a59",
   "metadata": {},
   "outputs": [],
   "source": [
    "# Define function for opening the downloaded\n",
    "# SRTM data for chosen grasslands\n",
    "\n",
    "def load_srtm(name, srtm_paths):\n",
    "    \"\"\"\n",
    "    Load in and merge downloaded srtm\n",
    "\n",
    "    Parameters\n",
    "    ==========\n",
    "    name : str\n",
    "      The name used to label the download\n",
    "    srtm_paths : dict \n",
    "        path to srtm files\n",
    "\n",
    "    Returns\n",
    "    =======\n",
    "    srtm_gdf: rxr.DataArray\n",
    "      DataArray with the srtm data\n",
    "    \"\"\"\n",
    "    \n",
    "    print(f'\\nGRASSLANDN: {name}')\n",
    "    grass_srtm_da = (\n",
    "        rxr.open_rasterio(srtm_paths[name][0], masked = True)\n",
    "         .squeeze()\n",
    "    )\n",
    "    return grass_srtm_da"
   ]
  },
  {
   "cell_type": "code",
   "execution_count": null,
   "id": "8ab8e0ee-3b54-453a-8ebd-e67f46f85278",
   "metadata": {},
   "outputs": [],
   "source": [
    "oglala_srtm_da = load_srtm('Oglala National Grassland', srtm_paths)\n",
    "fort_pierre_srtm_da = load_srtm('Fort Pierre National Grassland', srtm_paths)\n",
    "oglala_srtm_da\n",
    "fort_pierre_srtm_da"
   ]
  },
  {
   "cell_type": "code",
   "execution_count": null,
   "id": "80c304b0-d3d2-4cb7-ad03-a36aed404444",
   "metadata": {},
   "outputs": [],
   "source": []
  },
  {
   "cell_type": "code",
   "execution_count": null,
   "id": "d7f1c60c-1b7a-4d11-a4c8-071df6144ed1",
   "metadata": {},
   "outputs": [],
   "source": []
  },
  {
   "cell_type": "code",
   "execution_count": null,
   "id": "96e334dd-c9c9-41f4-a448-62c935574ea0",
   "metadata": {},
   "outputs": [],
   "source": []
  }
 ],
 "metadata": {
  "kernelspec": {
   "display_name": "Python 3 (ipykernel)",
   "language": "python",
   "name": "python3"
  },
  "language_info": {
   "codemirror_mode": {
    "name": "ipython",
    "version": 3
   },
   "file_extension": ".py",
   "mimetype": "text/x-python",
   "name": "python",
   "nbconvert_exporter": "python",
   "pygments_lexer": "ipython3",
   "version": "3.10.13"
  }
 },
 "nbformat": 4,
 "nbformat_minor": 5
}
