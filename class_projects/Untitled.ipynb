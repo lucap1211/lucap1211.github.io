{
 "cells": [
  {
   "cell_type": "markdown",
   "id": "93684ad3-35f7-429a-b9a5-dfe97eb999c7",
   "metadata": {},
   "source": [
    "# Habitat suitability model for Sorghastrum nutans"
   ]
  },
  {
   "cell_type": "code",
   "execution_count": null,
   "id": "1882519a-8bb5-477b-b229-fbda7756bd11",
   "metadata": {},
   "outputs": [],
   "source": []
  }
 ],
 "metadata": {
  "kernelspec": {
   "display_name": "Python 3 (ipykernel)",
   "language": "python",
   "name": "python3"
  },
  "language_info": {
   "codemirror_mode": {
    "name": "ipython",
    "version": 3
   },
   "file_extension": ".py",
   "mimetype": "text/x-python",
   "name": "python",
   "nbconvert_exporter": "python",
   "pygments_lexer": "ipython3",
   "version": "3.10.13"
  }
 },
 "nbformat": 4,
 "nbformat_minor": 5
}
